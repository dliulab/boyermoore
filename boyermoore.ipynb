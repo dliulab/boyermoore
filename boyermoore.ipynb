{
 "cells": [
  {
   "cell_type": "code",
   "execution_count": 91,
   "metadata": {
    "collapsed": false
   },
   "outputs": [],
   "source": [
    "def printLine(s, pad, offset, length):\n",
    "    t = [pad for _ in range(length+1)]\n",
    "    t[offset:offset+len(s)+1] = s\n",
    "    return t"
   ]
  },
  {
   "cell_type": "code",
   "execution_count": 90,
   "metadata": {
    "collapsed": true
   },
   "outputs": [],
   "source": [
    "def gsSkip(p, gs):\n",
    "    len_p = len(p)\n",
    "    len_gs = len(gs)\n",
    "    offset = len_p - len_gs - 1\n",
    "    skip = 0\n",
    "    for i in range(offset, -1, -1): # alignments\n",
    "        s = p[max(0, i-len_gs+1):i+1]\n",
    "        len_s = len(s)\n",
    "        for j in range(len_s-1, -1, -1): # bases\n",
    "            if (s[j] != gs[j+len_gs-len_s]):\n",
    "                break\n",
    "            else:\n",
    "                if (j==0):\n",
    "                    skip = offset + len_gs - i - 1\n",
    "                    #print(\"i: %d, j: %d, offset: %d, gs: %d\" % (i, j, offset, len_gs))\n",
    "        if skip > 0:\n",
    "            break\n",
    "    #print(\"break: %d\" % skip)\n",
    "    return skip"
   ]
  },
  {
   "cell_type": "code",
   "execution_count": 89,
   "metadata": {
    "collapsed": true
   },
   "outputs": [],
   "source": [
    "def bcSkip(p, offset, bc):\n",
    "    for j in range(offset-1, -1, -1):\n",
    "        #print(p, offset, bc, j)\n",
    "        if (p[j] == bc):\n",
    "            return offset-j-1\n",
    "    return offset"
   ]
  },
  {
   "cell_type": "code",
   "execution_count": 109,
   "metadata": {
    "collapsed": true
   },
   "outputs": [],
   "source": [
    "def bmSteps(p, t):\n",
    "    print(\"%s|\" % ' '.join([t[i] for i in range(len(t))]))\n",
    "    algn = 0\n",
    "    while algn < len(t)-len(p)+1:\n",
    "        s = printLine(p, ' ', algn, len(t))\n",
    "        for offset in range(len(p)-1, -1, -1):\n",
    "            gs_skip = 0\n",
    "            bc_skip = 0\n",
    "            gs = ''\n",
    "            bc = ''\n",
    "            #print(algn, offset, t[offset+algn], s[offset+algn])\n",
    "            if t[offset+algn] != s[offset+algn]:\n",
    "                bc = t[offset+algn]\n",
    "                bc_skip = bcSkip(p, offset, bc)\n",
    "                gs = p[offset+1:]\n",
    "                if (len(gs)>0):\n",
    "                    gs_skip = gsSkip(p, gs)\n",
    "                algn += max(bc_skip, gs_skip)\n",
    "                print(\"%s| \\x1b[31mbc: %s, %d\\x1b[0m, \\x1b[32mgs: %s, %d\\x1b[0m\" % (' '.join([s[i] for i in range(len(s))]), \n",
    "                                         bc, \n",
    "                                         bc_skip,\n",
    "                                         ''.join([gs[i] for i in range(len(gs))]),\n",
    "                                         gs_skip\n",
    "                                        ))\n",
    "                break\n",
    "            else:\n",
    "                if (bc == '') and (offset == 0):\n",
    "                    print(\"\\x1b[32m%s| MATCH\\x1b[0m\" % ' '.join([s[i] for i in range(len(s))]))\n",
    "                    break\n",
    "        algn += 1"
   ]
  },
  {
   "cell_type": "code",
   "execution_count": 107,
   "metadata": {
    "collapsed": false
   },
   "outputs": [
    {
     "name": "stdout",
     "output_type": "stream",
     "text": [
      "G T T A T A G C T G A T C G C G G C G T A G C G G C G A A|\n",
      "G T A G C G G C G                                        | \u001b[31mbc: T, 6\u001b[0m, \u001b[32mgs: , 0\u001b[0m\n",
      "              G T A G C G G C G                          | \u001b[31mbc: C, 0\u001b[0m, \u001b[32mgs: GCG, 2\u001b[0m\n",
      "                    G T A G C G G C G                    | \u001b[31mbc: C, 2\u001b[0m, \u001b[32mgs: GCGGCG, 7\u001b[0m\n",
      "\u001b[32m                                    G T A G C G G C G    | MATCH\u001b[0m\n",
      "                                      G T A G C G G C G  | \u001b[31mbc: A, 5\u001b[0m, \u001b[32mgs: , 0\u001b[0m\n"
     ]
    }
   ],
   "source": [
    "p = 'GTAGCGGCG'\n",
    "t = 'GTTATAGCTGATCGCGGCGTAGCGGCGAA'\n",
    "bmSteps(p, t)"
   ]
  },
  {
   "cell_type": "code",
   "execution_count": 113,
   "metadata": {
    "collapsed": false
   },
   "outputs": [
    {
     "name": "stdout",
     "output_type": "stream",
     "text": [
      "A A A A C G G C C T A T T C G G C T A T T T C G G C|\n",
      "T T C G G C                                        | \u001b[31mbc: G, 0\u001b[0m, \u001b[32mgs: , 0\u001b[0m\n",
      "  T T C G G C                                      | \u001b[31mbc: G, 0\u001b[0m, \u001b[32mgs: , 0\u001b[0m\n",
      "    T T C G G C                                    | \u001b[31mbc: A, 1\u001b[0m, \u001b[32mgs: CGGC, 0\u001b[0m\n",
      "        T T C G G C                                | \u001b[31mbc: T, 3\u001b[0m, \u001b[32mgs: , 0\u001b[0m\n",
      "                T T C G G C                        | \u001b[31mbc: T, 2\u001b[0m, \u001b[32mgs: C, 2\u001b[0m\n",
      "\u001b[32m                      T T C G G C                  | MATCH\u001b[0m\n",
      "                        T T C G G C                | \u001b[31mbc: T, 3\u001b[0m, \u001b[32mgs: , 0\u001b[0m\n",
      "                                T T C G G C        | \u001b[31mbc: T, 3\u001b[0m, \u001b[32mgs: , 0\u001b[0m\n",
      "\u001b[32m                                        T T C G G C| MATCH\u001b[0m\n"
     ]
    }
   ],
   "source": [
    "t = 'AAAACGGCCTATTCGGCTATTTCGGC'\n",
    "p = 'TTCGGC'\n",
    "bmSteps(p, t)"
   ]
  },
  {
   "cell_type": "code",
   "execution_count": null,
   "metadata": {
    "collapsed": true
   },
   "outputs": [],
   "source": []
  }
 ],
 "metadata": {
  "kernelspec": {
   "display_name": "Python 3",
   "language": "python",
   "name": "python3"
  },
  "language_info": {
   "codemirror_mode": {
    "name": "ipython",
    "version": 3
   },
   "file_extension": ".py",
   "mimetype": "text/x-python",
   "name": "python",
   "nbconvert_exporter": "python",
   "pygments_lexer": "ipython3",
   "version": "3.5.1"
  }
 },
 "nbformat": 4,
 "nbformat_minor": 0
}
